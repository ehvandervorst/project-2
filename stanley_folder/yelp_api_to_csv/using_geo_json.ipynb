{
 "cells": [
  {
   "cell_type": "markdown",
   "metadata": {},
   "source": [
    "# Making the geojson\n",
    "\n",
    "* from the Yelp CSV made a geojson for Leaflet to plot"
   ]
  },
  {
   "cell_type": "code",
   "execution_count": 1,
   "metadata": {},
   "outputs": [
    {
     "name": "stdout",
     "output_type": "stream",
     "text": [
      "Collecting geojson\n",
      "  Downloading geojson-2.5.0-py2.py3-none-any.whl (14 kB)\n",
      "Installing collected packages: geojson\n",
      "Successfully installed geojson-2.5.0\n",
      "Note: you may need to restart the kernel to use updated packages.\n"
     ]
    }
   ],
   "source": [
    "pip install geojson"
   ]
  },
  {
   "cell_type": "markdown",
   "metadata": {},
   "source": [
    "https://gis.stackexchange.com/questions/220997/pandas-to-geojson-multiples-points-features-with-python <br>\n",
    "there is a package <br>\n",
    "https://geopandas.org/data_structures.html\n"
   ]
  },
  {
   "cell_type": "code",
   "execution_count": 4,
   "metadata": {},
   "outputs": [],
   "source": [
    "col = ['lat','long','elev','name','description']\n",
    "data = [[-29.9953,-70.5867,760,'A','Place ñ'],\n",
    "        [-30.1217,-70.4933,1250,'B','Place b'],\n",
    "        [-30.0953,-70.5008,1185,'C','Place c']]\n",
    "\n",
    "df = pd.DataFrame(data, columns=col)"
   ]
  },
  {
   "cell_type": "code",
   "execution_count": 5,
   "metadata": {},
   "outputs": [
    {
     "data": {
      "text/html": [
       "<div>\n",
       "<style scoped>\n",
       "    .dataframe tbody tr th:only-of-type {\n",
       "        vertical-align: middle;\n",
       "    }\n",
       "\n",
       "    .dataframe tbody tr th {\n",
       "        vertical-align: top;\n",
       "    }\n",
       "\n",
       "    .dataframe thead th {\n",
       "        text-align: right;\n",
       "    }\n",
       "</style>\n",
       "<table border=\"1\" class=\"dataframe\">\n",
       "  <thead>\n",
       "    <tr style=\"text-align: right;\">\n",
       "      <th></th>\n",
       "      <th>lat</th>\n",
       "      <th>long</th>\n",
       "      <th>elev</th>\n",
       "      <th>name</th>\n",
       "      <th>description</th>\n",
       "    </tr>\n",
       "  </thead>\n",
       "  <tbody>\n",
       "    <tr>\n",
       "      <th>0</th>\n",
       "      <td>-29.9953</td>\n",
       "      <td>-70.5867</td>\n",
       "      <td>760</td>\n",
       "      <td>A</td>\n",
       "      <td>Place ñ</td>\n",
       "    </tr>\n",
       "    <tr>\n",
       "      <th>1</th>\n",
       "      <td>-30.1217</td>\n",
       "      <td>-70.4933</td>\n",
       "      <td>1250</td>\n",
       "      <td>B</td>\n",
       "      <td>Place b</td>\n",
       "    </tr>\n",
       "    <tr>\n",
       "      <th>2</th>\n",
       "      <td>-30.0953</td>\n",
       "      <td>-70.5008</td>\n",
       "      <td>1185</td>\n",
       "      <td>C</td>\n",
       "      <td>Place c</td>\n",
       "    </tr>\n",
       "  </tbody>\n",
       "</table>\n",
       "</div>"
      ],
      "text/plain": [
       "       lat     long  elev name description\n",
       "0 -29.9953 -70.5867   760    A     Place ñ\n",
       "1 -30.1217 -70.4933  1250    B     Place b\n",
       "2 -30.0953 -70.5008  1185    C     Place c"
      ]
     },
     "execution_count": 5,
     "metadata": {},
     "output_type": "execute_result"
    }
   ],
   "source": [
    "df"
   ]
  },
  {
   "cell_type": "code",
   "execution_count": 6,
   "metadata": {},
   "outputs": [],
   "source": [
    "import pandas as pd\n",
    "import geojson\n",
    "\n",
    "def data2geojson(df):\n",
    "    features = []\n",
    "    insert_features = lambda X: features.append(\n",
    "            geojson.Feature(geometry=geojson.Point((X[\"long\"],\n",
    "                                                    X[\"lat\"])),\n",
    "                            properties=dict(name=X[\"name\"],\n",
    "                                            description=X[\"description\"])))\n",
    "    df.apply(insert_features, axis=1)\n",
    "    with open('map1.geojson', 'w', encoding='utf8') as fp:\n",
    "        geojson.dump(geojson.FeatureCollection(features), fp, sort_keys=True, ensure_ascii=False)"
   ]
  },
  {
   "cell_type": "code",
   "execution_count": 7,
   "metadata": {},
   "outputs": [],
   "source": [
    "data2geojson(df)"
   ]
  },
  {
   "cell_type": "code",
   "execution_count": null,
   "metadata": {},
   "outputs": [],
   "source": []
  },
  {
   "cell_type": "code",
   "execution_count": 7,
   "metadata": {},
   "outputs": [
    {
     "data": {
      "text/html": [
       "<div>\n",
       "<style scoped>\n",
       "    .dataframe tbody tr th:only-of-type {\n",
       "        vertical-align: middle;\n",
       "    }\n",
       "\n",
       "    .dataframe tbody tr th {\n",
       "        vertical-align: top;\n",
       "    }\n",
       "\n",
       "    .dataframe thead th {\n",
       "        text-align: right;\n",
       "    }\n",
       "</style>\n",
       "<table border=\"1\" class=\"dataframe\">\n",
       "  <thead>\n",
       "    <tr style=\"text-align: right;\">\n",
       "      <th></th>\n",
       "      <th>id</th>\n",
       "      <th>alias</th>\n",
       "      <th>name</th>\n",
       "      <th>image_url</th>\n",
       "      <th>is_closed</th>\n",
       "      <th>url</th>\n",
       "      <th>review_count</th>\n",
       "      <th>categories</th>\n",
       "      <th>rating</th>\n",
       "      <th>coordinates</th>\n",
       "      <th>transactions</th>\n",
       "      <th>price</th>\n",
       "      <th>location</th>\n",
       "      <th>phone</th>\n",
       "      <th>display_phone</th>\n",
       "      <th>distance</th>\n",
       "      <th>latitude</th>\n",
       "      <th>longitude</th>\n",
       "      <th>categories_list</th>\n",
       "      <th>coordinates_list</th>\n",
       "    </tr>\n",
       "  </thead>\n",
       "  <tbody>\n",
       "    <tr>\n",
       "      <th>0</th>\n",
       "      <td>b6jOwyX4iaagw8YjXqq1sA</td>\n",
       "      <td>antonios-trattoria-bronx</td>\n",
       "      <td>Antonio's Trattoria</td>\n",
       "      <td>https://s3-media3.fl.yelpcdn.com/bphoto/VnG_ke...</td>\n",
       "      <td>False</td>\n",
       "      <td>https://www.yelp.com/biz/antonios-trattoria-br...</td>\n",
       "      <td>819</td>\n",
       "      <td>[{'alias': 'italian', 'title': 'Italian'}, {'a...</td>\n",
       "      <td>4.5</td>\n",
       "      <td>{'latitude': 40.854131, 'longitude': -73.886601}</td>\n",
       "      <td>['pickup', 'delivery']</td>\n",
       "      <td>$$</td>\n",
       "      <td>{'address1': '2370 Belmont Ave', 'address2': N...</td>\n",
       "      <td>+17187336630</td>\n",
       "      <td>(718) 733-6630</td>\n",
       "      <td>2321.0568823979</td>\n",
       "      <td>40.854131</td>\n",
       "      <td>-73.886601</td>\n",
       "      <td>['Italian', 'Pizza', 'Desserts']</td>\n",
       "      <td>[40.854131, -73.886601]</td>\n",
       "    </tr>\n",
       "  </tbody>\n",
       "</table>\n",
       "</div>"
      ],
      "text/plain": [
       "                       id                     alias                 name  \\\n",
       "0  b6jOwyX4iaagw8YjXqq1sA  antonios-trattoria-bronx  Antonio's Trattoria   \n",
       "\n",
       "                                           image_url  is_closed  \\\n",
       "0  https://s3-media3.fl.yelpcdn.com/bphoto/VnG_ke...      False   \n",
       "\n",
       "                                                 url  review_count  \\\n",
       "0  https://www.yelp.com/biz/antonios-trattoria-br...           819   \n",
       "\n",
       "                                          categories  rating  \\\n",
       "0  [{'alias': 'italian', 'title': 'Italian'}, {'a...     4.5   \n",
       "\n",
       "                                        coordinates            transactions  \\\n",
       "0  {'latitude': 40.854131, 'longitude': -73.886601}  ['pickup', 'delivery']   \n",
       "\n",
       "  price                                           location         phone  \\\n",
       "0    $$  {'address1': '2370 Belmont Ave', 'address2': N...  +17187336630   \n",
       "\n",
       "    display_phone         distance   latitude  longitude  \\\n",
       "0  (718) 733-6630  2321.0568823979  40.854131 -73.886601   \n",
       "\n",
       "                    categories_list         coordinates_list  \n",
       "0  ['Italian', 'Pizza', 'Desserts']  [40.854131, -73.886601]  "
      ]
     },
     "execution_count": 7,
     "metadata": {},
     "output_type": "execute_result"
    }
   ],
   "source": [
    "import pandas as pd\n",
    "second_pdf = pd.read_csv('parsed_nyc_yelp_dataset_4_stars_75_percentile.csv', encoding='utf-8')\n",
    "second_pdf.head(1)"
   ]
  },
  {
   "cell_type": "code",
   "execution_count": 9,
   "metadata": {},
   "outputs": [
    {
     "data": {
      "text/plain": [
       "169"
      ]
     },
     "execution_count": 9,
     "metadata": {},
     "output_type": "execute_result"
    }
   ],
   "source": [
    "len(second_pdf)"
   ]
  },
  {
   "cell_type": "code",
   "execution_count": 10,
   "metadata": {},
   "outputs": [],
   "source": [
    "import pandas as pd\n",
    "import geojson\n",
    "\n",
    "def data2geojson(df):\n",
    "    features = []\n",
    "    insert_features = lambda X: features.append(\n",
    "            geojson.Feature(geometry=geojson.Point((X[\"longitude\"],\n",
    "                                                    X[\"latitude\"])),\n",
    "                            properties=dict(name=X[\"name\"],\n",
    "                                            rating=X['rating'],\n",
    "                                            review_count=X['review_count'],\n",
    "                                            categories_list=X['categories_list'],\n",
    "                                            url=X['url']\n",
    "                                            )))\n",
    "    df.apply(insert_features, axis=1)\n",
    "    with open('nyc_yelp_4_stars_75_percentile_outskirts.geojson', 'w', encoding='utf8') as fp:\n",
    "        geojson.dump(geojson.FeatureCollection(features), fp, sort_keys=True, ensure_ascii=False)"
   ]
  },
  {
   "cell_type": "code",
   "execution_count": 11,
   "metadata": {},
   "outputs": [],
   "source": [
    "data2geojson(second_pdf)"
   ]
  },
  {
   "cell_type": "code",
   "execution_count": null,
   "metadata": {},
   "outputs": [],
   "source": []
  }
 ],
 "metadata": {
  "kernelspec": {
   "display_name": "Python 3",
   "language": "python",
   "name": "python3"
  },
  "language_info": {
   "codemirror_mode": {
    "name": "ipython",
    "version": 3
   },
   "file_extension": ".py",
   "mimetype": "text/x-python",
   "name": "python",
   "nbconvert_exporter": "python",
   "pygments_lexer": "ipython3",
   "version": "3.8.5"
  }
 },
 "nbformat": 4,
 "nbformat_minor": 4
}
